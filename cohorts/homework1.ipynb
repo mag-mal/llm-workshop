{
 "cells": [
  {
   "cell_type": "markdown",
   "id": "afcbd526",
   "metadata": {},
   "source": [
    "## Homework: Introduction\n",
    "\n",
    "In this homework, we'll learn more about search and use Elastic Search for practice. \n",
    "\n",
    "> It's possible that your answers won't match exactly. If it's the case, select the closest one."
   ]
  },
  {
   "cell_type": "markdown",
   "id": "c2ee6f36",
   "metadata": {},
   "source": [
    "## Q1. Running Elastic \n",
    "\n",
    "Run Elastic Search 8.17.6, and get the cluster information. If you run it on localhost, this is how you do it:\n",
    "\n",
    "```bash\n",
    "curl localhost:9200\n",
    "```\n",
    "\n",
    "What's the `version.build_hash` value?\n"
   ]
  },
  {
   "cell_type": "code",
   "execution_count": 1,
   "id": "0ce47e32",
   "metadata": {},
   "outputs": [],
   "source": [
    "# #Answer\n",
    "# #run in terminal\n",
    "# 1. \n",
    "# docker run -it \\\n",
    "#     --rm \\\n",
    "#     --name elasticsearch \\\n",
    "#     -m 4GB \\\n",
    "#     -p 9200:9200 \\\n",
    "#     -p 9300:9300 \\\n",
    "#     -e \"discovery.type=single-node\" \\\n",
    "#     -e \"xpack.security.enabled=false\" \\\n",
    "#     docker.elastic.co/elasticsearch/elasticsearch:8.17.6\n",
    "\n",
    "\n",
    "# 2. curl localhost:9200\n",
    "\n",
    "# {\n",
    "#   \"name\" : \"e9ba95c2f439\",\n",
    "#   \"cluster_name\" : \"docker-cluster\",\n",
    "#   \"cluster_uuid\" : \"3QuT-LNuQhu143sxVA1Iug\",\n",
    "#   \"version\" : {\n",
    "#     \"number\" : \"8.17.6\",\n",
    "#     \"build_flavor\" : \"default\",\n",
    "#     \"build_type\" : \"docker\",\n",
    "#     \"build_hash\" : \"dbcbbbd0bc4924cfeb28929dc05d82d662c527b7\",\n",
    "#     \"build_date\" : \"2025-04-30T14:07:12.231372970Z\",\n",
    "#     \"build_snapshot\" : false,\n",
    "#     \"lucene_version\" : \"9.12.0\",\n",
    "#     \"minimum_wire_compatibility_version\" : \"7.17.0\",\n",
    "#     \"minimum_index_compatibility_version\" : \"7.0.0\"\n",
    "#   },\n",
    "#   \"tagline\" : \"You Know, for Search\"\n",
    "# }"
   ]
  },
  {
   "cell_type": "markdown",
   "id": "391a2bef",
   "metadata": {},
   "source": []
  },
  {
   "cell_type": "markdown",
   "id": "c91b2bdb",
   "metadata": {},
   "source": [
    "## Getting the data\n",
    "\n",
    "Now let's get the FAQ data. You can run this snippet:"
   ]
  },
  {
   "cell_type": "code",
   "execution_count": 3,
   "id": "9187dc75",
   "metadata": {},
   "outputs": [],
   "source": [
    "import requests \n",
    "\n",
    "docs_url = 'https://github.com/DataTalksClub/llm-zoomcamp/blob/main/01-intro/documents.json?raw=1'\n",
    "docs_response = requests.get(docs_url)\n",
    "documents_raw = docs_response.json()\n",
    "\n",
    "documents = []\n",
    "\n",
    "for course in documents_raw:\n",
    "    course_name = course['course']\n",
    "\n",
    "    for doc in course['documents']:\n",
    "        doc['course'] = course_name\n",
    "        documents.append(doc)"
   ]
  },
  {
   "cell_type": "markdown",
   "id": "aecc4f8d",
   "metadata": {},
   "source": [
    "## Q2. Indexing the data\n",
    "\n",
    "Index the data in the same way as was shown in the course videos. Make the `course` field a keyword and the rest should be text. \n",
    "\n",
    "Don't forget to install the ElasticSearch client for Python:"
   ]
  },
  {
   "cell_type": "code",
   "execution_count": 4,
   "id": "8538cab1",
   "metadata": {},
   "outputs": [],
   "source": [
    "from elasticsearch import Elasticsearch"
   ]
  },
  {
   "cell_type": "code",
   "execution_count": 5,
   "id": "09a5d618",
   "metadata": {},
   "outputs": [],
   "source": [
    "es_client = Elasticsearch('http://localhost:9200') "
   ]
  },
  {
   "cell_type": "code",
   "execution_count": null,
   "id": "b9c13446",
   "metadata": {},
   "outputs": [
    {
     "data": {
      "text/plain": [
       "ObjectApiResponse({'acknowledged': True, 'shards_acknowledged': True, 'index': 'course-questions'})"
      ]
     },
     "execution_count": 6,
     "metadata": {},
     "output_type": "execute_result"
    }
   ],
   "source": [
    "# This method is used to explicitly create an index.\n",
    "\n",
    "# It is part of the indices API, specifically for creating an index with optional settings and mappings.\n",
    "\n",
    "# You can define:\n",
    "\n",
    "# Settings (e.g., number of shards, replicas)\n",
    "\n",
    "# Mappings (field types, analyzers)\n",
    "\n",
    "# Aliases, etc.\n",
    "\n",
    "index_settings = {\n",
    "    \"settings\": {\n",
    "        \"number_of_shards\": 1,\n",
    "        \"number_of_replicas\": 0\n",
    "    },\n",
    "    \"mappings\": {\n",
    "        \"properties\": {\n",
    "            \"text\": {\"type\": \"text\"},\n",
    "            \"section\": {\"type\": \"text\"},\n",
    "            \"question\": {\"type\": \"text\"},\n",
    "            \"course\": {\"type\": \"keyword\"} \n",
    "        }\n",
    "    }\n",
    "}\n",
    "\n",
    "index_name = \"course-questions\"\n",
    "\n",
    "es_client.indices.create(index=index_name, body=index_settings)"
   ]
  },
  {
   "cell_type": "code",
   "execution_count": null,
   "id": "4cb6e30b",
   "metadata": {},
   "outputs": [
    {
     "data": {
      "application/vnd.jupyter.widget-view+json": {
       "model_id": "4ce46a374d254a43be85cc6431a634a9",
       "version_major": 2,
       "version_minor": 0
      },
      "text/plain": [
       "  0%|          | 0/948 [00:00<?, ?it/s]"
      ]
     },
     "metadata": {},
     "output_type": "display_data"
    }
   ],
   "source": [
    "#It is part of the documents API, specifically for indexing a document (i.e., inserting or updating).\n",
    "from tqdm.auto import tqdm\n",
    "for doc in tqdm(documents):\n",
    "    es_client.index(index=index_name, document=doc)"
   ]
  },
  {
   "cell_type": "markdown",
   "id": "0695df2d",
   "metadata": {},
   "source": [
    "Which function do you use for adding your data to elastic?\n",
    "\n",
    "* `insert`\n",
    "* `index` - the correct answer\n",
    "* `put`\n",
    "* `add`"
   ]
  },
  {
   "cell_type": "markdown",
   "id": "7d094430",
   "metadata": {},
   "source": [
    "## Q3. Searching\n",
    "\n",
    "Now let's search in our index. \n",
    "\n",
    "We will execute a query \"How do execute a command on a Kubernetes pod?\". \n",
    "\n",
    "Use only `question` and `text` fields and give `question` a boost of 4, and use `\"type\": \"best_fields\"`.\n",
    "\n",
    "What's the score for the top ranking result?\n",
    "\n",
    "* 84.50\n",
    "* 64.50\n",
    "* 44.50 - this is a correct answer?\n",
    "* 24.50"
   ]
  },
  {
   "cell_type": "code",
   "execution_count": 9,
   "id": "26cca9ad",
   "metadata": {},
   "outputs": [],
   "source": [
    "query =  \"How do execute a command on a Kubernetes pod?\""
   ]
  },
  {
   "cell_type": "code",
   "execution_count": null,
   "id": "f1a63571",
   "metadata": {},
   "outputs": [],
   "source": [
    "#question is 4 times more important\n",
    "def elastic_search(query):\n",
    "    search_query = {\n",
    "        \"size\": 5,\n",
    "        \"query\": {\n",
    "            \"bool\": {\n",
    "                \"must\": {\n",
    "                    \"multi_match\": {\n",
    "                        \"query\": query,\n",
    "                        \"fields\": [\"question^4\", \"text\"],\n",
    "                        \"type\": \"best_fields\"\n",
    "                    }\n",
    "                },\n",
    "\n",
    "            }\n",
    "        }\n",
    "    }\n",
    "\n",
    "    response = es_client.search(index=index_name, body=search_query)\n",
    "    \n",
    "    result_docs = []\n",
    "    \n",
    "    for hit in response['hits']['hits']:\n",
    "        result_docs.append(hit['_source'])\n",
    "        print(hit['_score'])\n",
    "    \n",
    "    return result_docs"
   ]
  },
  {
   "cell_type": "code",
   "execution_count": 17,
   "id": "95cd2f99",
   "metadata": {},
   "outputs": [
    {
     "name": "stdout",
     "output_type": "stream",
     "text": [
      "44.50556\n",
      "35.433445\n",
      "33.70974\n",
      "33.2635\n",
      "32.589073\n"
     ]
    },
    {
     "data": {
      "text/plain": [
       "[{'text': 'Launch the container image in interactive mode and overriding the entrypoint, so that it starts a bash command.\\ndocker run -it --entrypoint bash <image>\\nIf the container is already running, execute a command in the specific container:\\ndocker ps (find the container-id)\\ndocker exec -it <container-id> bash\\n(Marcos MJD)',\n",
       "  'section': '5. Deploying Machine Learning Models',\n",
       "  'question': 'How do I debug a docker container?',\n",
       "  'course': 'machine-learning-zoomcamp'},\n",
       " {'text': 'Deploy and Access the Kubernetes Dashboard\\nLuke',\n",
       "  'section': '10. Kubernetes and TensorFlow Serving',\n",
       "  'question': 'Kubernetes-dashboard',\n",
       "  'course': 'machine-learning-zoomcamp'},\n",
       " {'text': 'You can copy files from your local machine into a Docker container using the docker cp command. Here\\'s how to do it:\\nIn the Dockerfile, you can provide the folder containing the files that you want to copy over. The basic syntax is as follows:\\nCOPY [\"src/predict.py\", \"models/xgb_model.bin\", \"./\"]\\t\\t\\t\\t\\t\\t\\t\\t\\t\\t\\tGopakumar Gopinathan',\n",
       "  'section': '5. Deploying Machine Learning Models',\n",
       "  'question': 'How do I copy files from a different folder into docker container’s working directory?',\n",
       "  'course': 'machine-learning-zoomcamp'},\n",
       " {'text': 'Problem description:\\nI started a web-server in terminal (command window, powershell, etc.). How can I run another python script, which makes a request to this server?\\nSolution description:\\nJust open another terminal (command window, powershell, etc.) and run a python script.\\nAlena Kniazeva',\n",
       "  'section': '5. Deploying Machine Learning Models',\n",
       "  'question': 'How to run a script while a web-server is working?',\n",
       "  'course': 'machine-learning-zoomcamp'},\n",
       " {'text': \"Matplotlib has a cool method to annotate where you could provide an X,Y point and annotate with an arrow and text. For example this will show an arrow pointing to the x,y point optimal threshold.\\nplt.annotate(f'Optimal Threshold: {optimal_threshold:.2f}\\\\nOptimal F1 Score: {optimal_f1_score:.2f}',\\nxy=(optimal_threshold, optimal_f1_score),\\nxytext=(0.3, 0.5),\\ntextcoords='axes fraction',\\narrowprops=dict(facecolor='black', shrink=0.05))\\nQuinn Avila\",\n",
       "  'section': '4. Evaluation Metrics for Classification',\n",
       "  'question': 'How can I annotate a graph?',\n",
       "  'course': 'machine-learning-zoomcamp'}]"
      ]
     },
     "execution_count": 17,
     "metadata": {},
     "output_type": "execute_result"
    }
   ],
   "source": [
    "elastic_search(query)"
   ]
  },
  {
   "cell_type": "code",
   "execution_count": null,
   "id": "474430bc",
   "metadata": {},
   "outputs": [],
   "source": []
  }
 ],
 "metadata": {
  "kernelspec": {
   "display_name": "Python 3",
   "language": "python",
   "name": "python3"
  },
  "language_info": {
   "codemirror_mode": {
    "name": "ipython",
    "version": 3
   },
   "file_extension": ".py",
   "mimetype": "text/x-python",
   "name": "python",
   "nbconvert_exporter": "python",
   "pygments_lexer": "ipython3",
   "version": "3.12.1"
  }
 },
 "nbformat": 4,
 "nbformat_minor": 5
}
