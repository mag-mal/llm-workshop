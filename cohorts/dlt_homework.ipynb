{
 "cells": [
  {
   "cell_type": "markdown",
   "id": "09af2ab7",
   "metadata": {},
   "source": [
    "# From REST to reasoning: ingest, index, and query with dlt and Cognee\n",
    "\n",
    "* Video: https://www.youtube.com/watch?v=MNt_KK32gys\n",
    "* Homework solution: TBA\n",
    "\n",
    "# Resources\n",
    "\n",
    "* [Slides](https://docs.google.com/presentation/d/1oHQilxEVqGGW4S2ctNEE0wHY2LgcjYLaRUziAoinsis/edit?usp=sharing)\n",
    "* [Colab Notebook](https://colab.research.google.com/drive/1vBA9OIGChcKjjg8r5hHduR0v3A5D6rmH?usp=sharing) \n"
   ]
  },
  {
   "cell_type": "markdown",
   "id": "e85f6727",
   "metadata": {},
   "source": [
    "# Homework\n",
    "\n",
    "## Question 1. dlt Version\n",
    "\n",
    "In this homework, we will load the data from our FAQ to Qdrant\n",
    "\n",
    "Let's install dlt with Qdrant support and Qdrant client:\n",
    "\n",
    "```bash\n",
    "pip install -q \"dlt[qdrant]\" \"qdrant-client[fastembed]\"\n",
    "```\n",
    "\n",
    "What's the version of dlt that you installed?"
   ]
  },
  {
   "cell_type": "markdown",
   "id": "848bea16",
   "metadata": {},
   "source": [
    "## Q1 answer\n",
    "1.12.3\n",
    "###pip show dlt"
   ]
  },
  {
   "cell_type": "markdown",
   "id": "94ea6635",
   "metadata": {},
   "source": [
    "## dlt Resourse\n",
    "\n",
    "For reading the FAQ data, we have this helper function:"
   ]
  },
  {
   "cell_type": "code",
   "execution_count": 10,
   "id": "1899b934",
   "metadata": {},
   "outputs": [],
   "source": [
    "import requests\n",
    "import dlt\n",
    "\n",
    "@dlt.resource(write_disposition=\"replace\", name=\"zoomcamp_data\")\n",
    "def zoomcamp_data():\n",
    "    docs_url = 'https://github.com/alexeygrigorev/llm-rag-workshop/raw/main/notebooks/documents.json'\n",
    "    docs_response = requests.get(docs_url)\n",
    "    documents_raw = docs_response.json()\n",
    "\n",
    "    for course in documents_raw:\n",
    "        course_name = course['course']\n",
    "\n",
    "        for doc in course['documents']:\n",
    "            doc['course'] = course_name\n",
    "            yield doc"
   ]
  },
  {
   "cell_type": "markdown",
   "id": "5b58ad52",
   "metadata": {},
   "source": [
    "Annotate it with `@dlt.resource`. We will use it when creating\n",
    "a dlt pipeline.\n",
    "\n",
    "## Question 2. dlt pipeline\n",
    "\n",
    "Now let's create a pipeline. \n",
    "\n",
    "We need to define a destination for that. Let's use the `qdrant` one:"
   ]
  },
  {
   "cell_type": "code",
   "execution_count": 11,
   "id": "b73ad879",
   "metadata": {},
   "outputs": [],
   "source": [
    "\n",
    "from dlt.destinations import qdrant\n",
    "\n",
    "qdrant_destination = qdrant(\n",
    "  qd_path=\"db.qdrant\", \n",
    ")"
   ]
  },
  {
   "cell_type": "markdown",
   "id": "5c545177",
   "metadata": {},
   "source": [
    "In this case, we tell dlt (and Qdrant) to create a folder with\n",
    "our data, and the name for it will be `db.qdrant`\n",
    "\n",
    "Let's run it:"
   ]
  },
  {
   "cell_type": "code",
   "execution_count": 12,
   "id": "b1f37e85",
   "metadata": {},
   "outputs": [
    {
     "data": {
      "application/vnd.jupyter.widget-view+json": {
       "model_id": "89c98cbe730b48aea8f4a834c28e21d5",
       "version_major": 2,
       "version_minor": 0
      },
      "text/plain": [
       "Fetching 5 files:   0%|          | 0/5 [00:00<?, ?it/s]"
      ]
     },
     "metadata": {},
     "output_type": "display_data"
    },
    {
     "data": {
      "application/vnd.jupyter.widget-view+json": {
       "model_id": "4db34866fe8a4c4189b24414c807e579",
       "version_major": 2,
       "version_minor": 0
      },
      "text/plain": [
       "tokenizer.json: 0.00B [00:00, ?B/s]"
      ]
     },
     "metadata": {},
     "output_type": "display_data"
    },
    {
     "data": {
      "application/vnd.jupyter.widget-view+json": {
       "model_id": "db5d009704da488e9db3d978a7c7f54a",
       "version_major": 2,
       "version_minor": 0
      },
      "text/plain": [
       "special_tokens_map.json:   0%|          | 0.00/125 [00:00<?, ?B/s]"
      ]
     },
     "metadata": {},
     "output_type": "display_data"
    },
    {
     "data": {
      "application/vnd.jupyter.widget-view+json": {
       "model_id": "2ba9c7f538d64a38b14b0fe20eaa1ea9",
       "version_major": 2,
       "version_minor": 0
      },
      "text/plain": [
       "config.json:   0%|          | 0.00/701 [00:00<?, ?B/s]"
      ]
     },
     "metadata": {},
     "output_type": "display_data"
    },
    {
     "data": {
      "application/vnd.jupyter.widget-view+json": {
       "model_id": "fb8d9597c3a9401ea3be122729fe095c",
       "version_major": 2,
       "version_minor": 0
      },
      "text/plain": [
       "tokenizer_config.json:   0%|          | 0.00/366 [00:00<?, ?B/s]"
      ]
     },
     "metadata": {},
     "output_type": "display_data"
    },
    {
     "data": {
      "application/vnd.jupyter.widget-view+json": {
       "model_id": "369a2bc87d534a33baa80fa4b41dc8c4",
       "version_major": 2,
       "version_minor": 0
      },
      "text/plain": [
       "model_optimized.onnx:   0%|          | 0.00/133M [00:00<?, ?B/s]"
      ]
     },
     "metadata": {},
     "output_type": "display_data"
    },
    {
     "name": "stdout",
     "output_type": "stream",
     "text": [
      "Run started at 2025-07-07 09:27:33.279403+00:00 and COMPLETED in 6.95 seconds with 4 steps.\n",
      "Step extract COMPLETED in 0.47 seconds.\n",
      "\n",
      "Load package 1751880455.8444777 is EXTRACTED and NOT YET LOADED to the destination and contains no failed jobs\n",
      "\n",
      "Step normalize COMPLETED in 0.08 seconds.\n",
      "Normalized data for the following tables:\n",
      "- _dlt_pipeline_state: 1 row(s)\n",
      "- zoomcamp_data: 948 row(s)\n",
      "\n",
      "Load package 1751880455.8444777 is NORMALIZED and NOT YET LOADED to the destination and contains no failed jobs\n",
      "\n",
      "Step load COMPLETED in 3.84 seconds.\n",
      "Pipeline zoomcamp_pipeline load step completed in 3.83 seconds\n",
      "1 load package(s) were loaded to destination qdrant and into dataset zoomcamp_tagged_data\n",
      "The qdrant destination used /workspaces/llm-workshop/cohorts/db.qdrant location to store data\n",
      "Load package 1751880455.8444777 is LOADED and contains no failed jobs\n",
      "\n",
      "Step run COMPLETED in 6.95 seconds.\n",
      "Pipeline zoomcamp_pipeline load step completed in 3.83 seconds\n",
      "1 load package(s) were loaded to destination qdrant and into dataset zoomcamp_tagged_data\n",
      "The qdrant destination used /workspaces/llm-workshop/cohorts/db.qdrant location to store data\n",
      "Load package 1751880455.8444777 is LOADED and contains no failed jobs\n"
     ]
    }
   ],
   "source": [
    "pipeline = dlt.pipeline(\n",
    "    pipeline_name=\"zoomcamp_pipeline\",\n",
    "    destination=qdrant_destination,\n",
    "    dataset_name=\"zoomcamp_tagged_data\"\n",
    "\n",
    ")\n",
    "load_info = pipeline.run(zoomcamp_data())\n",
    "print(pipeline.last_trace)"
   ]
  },
  {
   "cell_type": "markdown",
   "id": "c78bb4f2",
   "metadata": {},
   "source": [
    "How many rows were inserted into the `zoomcamp_data` collection?\n",
    "\n",
    "Look for `\"Normalized data for the following tables:\"` in the trace output."
   ]
  },
  {
   "cell_type": "markdown",
   "id": "29ff2c19",
   "metadata": {},
   "source": [
    "## Q2 ANSWER\n",
    "948 rows"
   ]
  },
  {
   "cell_type": "markdown",
   "id": "af189b51",
   "metadata": {},
   "source": [
    "## Question 3. Embeddings\n",
    "\n",
    "When inserting the data, an embedding model was used. Which one?\n",
    "\n",
    "You can find this out by inspecting the `meta.json` file created\n",
    "in the target folder."
   ]
  },
  {
   "cell_type": "markdown",
   "id": "93348b05",
   "metadata": {},
   "source": [
    "## Q3 ANSWER\n",
    "fast-bge-small-en"
   ]
  },
  {
   "cell_type": "markdown",
   "id": "c07e0798",
   "metadata": {},
   "source": []
  }
 ],
 "metadata": {
  "kernelspec": {
   "display_name": "Python 3",
   "language": "python",
   "name": "python3"
  },
  "language_info": {
   "codemirror_mode": {
    "name": "ipython",
    "version": 3
   },
   "file_extension": ".py",
   "mimetype": "text/x-python",
   "name": "python",
   "nbconvert_exporter": "python",
   "pygments_lexer": "ipython3",
   "version": "3.12.1"
  }
 },
 "nbformat": 4,
 "nbformat_minor": 5
}
