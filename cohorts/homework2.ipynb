{
 "cells": [
  {
   "cell_type": "markdown",
   "id": "47d0be46",
   "metadata": {},
   "source": [
    "## Homework: Vector Search\n",
    "\n",
    "In this homework, we will learn more about vector search\n",
    "and embedding. Like in the module, we will use Qdrant and\n",
    "fastembed\n",
    "\n",
    "> It's possible that your answers won't match exactly. If it's the case, select the closest one.\n",
    "\n",
    "Note: if you want to learn how vector search works under\n",
    "the hood, check \n",
    "[homework 3 from 2024 cohort (questions 1-4)](../../2024/03-vector-search/homework.md)\n",
    "\n",
    "## Embeddings\n",
    "\n",
    "Qdrant uses [fastembed](https://github.com/qdrant/fastembed)\n",
    "under the hood to turn text into vectors. \n",
    "\n",
    "We will now explore this library\n",
    "\n",
    "Make sure it's installed:\n",
    "\n",
    "```bash\n",
    "pip install fastembed\n",
    "```\n",
    "\n",
    "Import it: "
   ]
  },
  {
   "cell_type": "code",
   "execution_count": 1,
   "id": "03eae392",
   "metadata": {},
   "outputs": [],
   "source": [
    "from fastembed import TextEmbedding"
   ]
  },
  {
   "cell_type": "markdown",
   "id": "adcde5d5",
   "metadata": {},
   "source": [
    "## Q1. Embedding the query\n",
    "\n",
    "Embed the query: `'I just discovered the course. Can I join now?'`.\n",
    "Use the `'jinaai/jina-embeddings-v2-small-en'` model. \n",
    "\n",
    "You should get a numpy array of size 512.\n",
    "\n",
    "What's the minimal value in this array?\n",
    "\n",
    "* -0.51\n",
    "* -0.11\n",
    "* 0\n",
    "* 0.51\n"
   ]
  },
  {
   "cell_type": "markdown",
   "id": "65281c83",
   "metadata": {},
   "source": [
    "## Q1 SOLUTION"
   ]
  },
  {
   "cell_type": "code",
   "execution_count": 2,
   "id": "b2d1cab5",
   "metadata": {},
   "outputs": [
    {
     "name": "stdout",
     "output_type": "stream",
     "text": [
      "{\n",
      "   \"model\": \"BAAI/bge-small-zh-v1.5\",\n",
      "   \"sources\": {\n",
      "      \"hf\": \"Qdrant/bge-small-zh-v1.5\",\n",
      "      \"url\": \"https://storage.googleapis.com/qdrant-fastembed/fast-bge-small-zh-v1.5.tar.gz\",\n",
      "      \"_deprecated_tar_struct\": true\n",
      "   },\n",
      "   \"model_file\": \"model_optimized.onnx\",\n",
      "   \"description\": \"Text embeddings, Unimodal (text), Chinese, 512 input tokens truncation, Prefixes for queries/documents: not so necessary, 2023 year.\",\n",
      "   \"license\": \"mit\",\n",
      "   \"size_in_GB\": 0.09,\n",
      "   \"additional_files\": [],\n",
      "   \"dim\": 512,\n",
      "   \"tasks\": {}\n",
      "}\n",
      "{\n",
      "   \"model\": \"Qdrant/clip-ViT-B-32-text\",\n",
      "   \"sources\": {\n",
      "      \"hf\": \"Qdrant/clip-ViT-B-32-text\",\n",
      "      \"url\": null,\n",
      "      \"_deprecated_tar_struct\": false\n",
      "   },\n",
      "   \"model_file\": \"model.onnx\",\n",
      "   \"description\": \"Text embeddings, Multimodal (text&image), English, 77 input tokens truncation, Prefixes for queries/documents: not necessary, 2021 year\",\n",
      "   \"license\": \"mit\",\n",
      "   \"size_in_GB\": 0.25,\n",
      "   \"additional_files\": [],\n",
      "   \"dim\": 512,\n",
      "   \"tasks\": {}\n",
      "}\n",
      "{\n",
      "   \"model\": \"jinaai/jina-embeddings-v2-small-en\",\n",
      "   \"sources\": {\n",
      "      \"hf\": \"xenova/jina-embeddings-v2-small-en\",\n",
      "      \"url\": null,\n",
      "      \"_deprecated_tar_struct\": false\n",
      "   },\n",
      "   \"model_file\": \"onnx/model.onnx\",\n",
      "   \"description\": \"Text embeddings, Unimodal (text), English, 8192 input tokens truncation, Prefixes for queries/documents: not necessary, 2023 year.\",\n",
      "   \"license\": \"apache-2.0\",\n",
      "   \"size_in_GB\": 0.12,\n",
      "   \"additional_files\": [],\n",
      "   \"dim\": 512,\n",
      "   \"tasks\": {}\n",
      "}\n"
     ]
    }
   ],
   "source": [
    "import json\n",
    "\n",
    "EMBEDDING_DIMENSIONALITY = 512\n",
    "\n",
    "for model in TextEmbedding.list_supported_models():\n",
    "    if model[\"dim\"] == EMBEDDING_DIMENSIONALITY:\n",
    "        print(json.dumps(model, indent=3))"
   ]
  },
  {
   "cell_type": "code",
   "execution_count": 3,
   "id": "60f653ba",
   "metadata": {},
   "outputs": [
    {
     "data": {
      "application/vnd.jupyter.widget-view+json": {
       "model_id": "b847ea6f2f13429b81aa76475a4f58cb",
       "version_major": 2,
       "version_minor": 0
      },
      "text/plain": [
       "Fetching 5 files:   0%|          | 0/5 [00:00<?, ?it/s]"
      ]
     },
     "metadata": {},
     "output_type": "display_data"
    },
    {
     "data": {
      "application/vnd.jupyter.widget-view+json": {
       "model_id": "7b3e578650bc475496bca1fbd50ecdf8",
       "version_major": 2,
       "version_minor": 0
      },
      "text/plain": [
       "tokenizer_config.json:   0%|          | 0.00/367 [00:00<?, ?B/s]"
      ]
     },
     "metadata": {},
     "output_type": "display_data"
    },
    {
     "data": {
      "application/vnd.jupyter.widget-view+json": {
       "model_id": "900e89a44f2847a09a4ed53053f0bac2",
       "version_major": 2,
       "version_minor": 0
      },
      "text/plain": [
       "tokenizer.json: 0.00B [00:00, ?B/s]"
      ]
     },
     "metadata": {},
     "output_type": "display_data"
    },
    {
     "data": {
      "application/vnd.jupyter.widget-view+json": {
       "model_id": "726f59392d364638bc446b784ed79995",
       "version_major": 2,
       "version_minor": 0
      },
      "text/plain": [
       "special_tokens_map.json:   0%|          | 0.00/125 [00:00<?, ?B/s]"
      ]
     },
     "metadata": {},
     "output_type": "display_data"
    },
    {
     "data": {
      "application/vnd.jupyter.widget-view+json": {
       "model_id": "d78e598c79fa4f779e8e1e6f16deed97",
       "version_major": 2,
       "version_minor": 0
      },
      "text/plain": [
       "config.json: 0.00B [00:00, ?B/s]"
      ]
     },
     "metadata": {},
     "output_type": "display_data"
    },
    {
     "data": {
      "application/vnd.jupyter.widget-view+json": {
       "model_id": "96d65117681d420e94f7624a42766643",
       "version_major": 2,
       "version_minor": 0
      },
      "text/plain": [
       "onnx/model.onnx:   0%|          | 0.00/130M [00:00<?, ?B/s]"
      ]
     },
     "metadata": {},
     "output_type": "display_data"
    }
   ],
   "source": [
    "# Load the Jina embedding model\n",
    "model = TextEmbedding(model_name=\"jinaai/jina-embeddings-v2-small-en\")\n",
    "\n",
    "# Your input text\n",
    "query1 = 'I just discovered the course. Can I join now?'\n",
    "\n",
    "# Get embeddings (returns a generator, so convert to list)\n",
    "embeddings = list(model.embed(query1))\n",
    "embedding_vector = embeddings[0]\n",
    "\n",
    "# Optional: Get dimensionality\n",
    "EMBEDDING_DIMENSIONALITY = len(embedding_vector)"
   ]
  },
  {
   "cell_type": "code",
   "execution_count": 4,
   "id": "8f1cdab1",
   "metadata": {},
   "outputs": [
    {
     "data": {
      "text/plain": [
       "np.float64(-0.11726373885183883)"
      ]
     },
     "execution_count": 4,
     "metadata": {},
     "output_type": "execute_result"
    }
   ],
   "source": [
    "min(embedding_vector)"
   ]
  },
  {
   "cell_type": "code",
   "execution_count": 5,
   "id": "ba732c0d",
   "metadata": {},
   "outputs": [
    {
     "data": {
      "text/plain": [
       "512"
      ]
     },
     "execution_count": 5,
     "metadata": {},
     "output_type": "execute_result"
    }
   ],
   "source": [
    "EMBEDDING_DIMENSIONALITY"
   ]
  },
  {
   "cell_type": "markdown",
   "id": "54a95fc7",
   "metadata": {},
   "source": [
    "## Q1 ANSWER\n",
    "b) -0.11"
   ]
  },
  {
   "cell_type": "markdown",
   "id": "88dbb235",
   "metadata": {},
   "source": [
    "## Cosine similarity\n",
    "\n",
    "The vectors that our embedding model returns are already normalized: their length is 1.0.\n",
    "\n",
    "You can check that by using the `norm` function:\n",
    "\n",
    "```python\n",
    "import numpy as np\n",
    "np.linalg.norm(q)\n",
    "```\n",
    "\n",
    "Which means that we can simply compute the dot product between\n",
    "two vectors to learn the cosine similarity between them.\n",
    "\n",
    "For example, if you compute the cosine of the query vector with itself, the result will be 1.0:\n",
    "\n",
    "```python\n",
    "q.dot(q)\n",
    "```"
   ]
  },
  {
   "cell_type": "markdown",
   "id": "c6bda4c6",
   "metadata": {},
   "source": [
    "## Q2. Cosine similarity with another vector\n",
    "\n",
    "Now let's embed this document:\n",
    "\n",
    "```python\n",
    "doc = 'Can I still join the course after the start date?'\n",
    "```\n",
    "\n",
    "What's the cosine similarity between the vector for the query\n",
    "and the vector for the document?\n",
    "\n",
    "* 0.3\n",
    "* 0.5\n",
    "* 0.7\n",
    "* 0.9"
   ]
  },
  {
   "cell_type": "markdown",
   "id": "17ab0694",
   "metadata": {},
   "source": [
    "## Q2 SOLUTION"
   ]
  },
  {
   "cell_type": "code",
   "execution_count": 6,
   "id": "dd2f3eaf",
   "metadata": {},
   "outputs": [
    {
     "data": {
      "text/plain": [
       "np.float64(1.0)"
      ]
     },
     "execution_count": 6,
     "metadata": {},
     "output_type": "execute_result"
    }
   ],
   "source": [
    "import numpy as np\n",
    "np.linalg.norm(embedding_vector)"
   ]
  },
  {
   "cell_type": "code",
   "execution_count": 7,
   "id": "3b98d3bf",
   "metadata": {},
   "outputs": [],
   "source": [
    "doc = 'Can I still join the course after the start date?'\n",
    "# Get embeddings (returns a generator, so convert to list)\n",
    "doc_embeddings = list(model.embed(doc))\n",
    "doc_embedding_vector = doc_embeddings[0]"
   ]
  },
  {
   "cell_type": "code",
   "execution_count": 8,
   "id": "874e542b",
   "metadata": {},
   "outputs": [
    {
     "data": {
      "text/plain": [
       "np.float64(0.9008528895674548)"
      ]
     },
     "execution_count": 8,
     "metadata": {},
     "output_type": "execute_result"
    }
   ],
   "source": [
    "doc_embedding_vector.dot(embedding_vector)"
   ]
  },
  {
   "cell_type": "markdown",
   "id": "a0219211",
   "metadata": {},
   "source": [
    "## Q2 ANSWER\n",
    "d) 0.9"
   ]
  },
  {
   "cell_type": "markdown",
   "id": "97b4f0bd",
   "metadata": {},
   "source": [
    "## Q3. Ranking by cosine\n",
    "\n",
    "For Q3 and Q4 we will use these documents:"
   ]
  },
  {
   "cell_type": "code",
   "execution_count": 9,
   "id": "cacb0e99",
   "metadata": {},
   "outputs": [],
   "source": [
    "documents = [{'text': \"Yes, even if you don't register, you're still eligible to submit the homeworks.\\nBe aware, however, that there will be deadlines for turning in the final projects. So don't leave everything for the last minute.\",\n",
    "  'section': 'General course-related questions',\n",
    "  'question': 'Course - Can I still join the course after the start date?',\n",
    "  'course': 'data-engineering-zoomcamp'},\n",
    " {'text': 'Yes, we will keep all the materials after the course finishes, so you can follow the course at your own pace after it finishes.\\nYou can also continue looking at the homeworks and continue preparing for the next cohort. I guess you can also start working on your final capstone project.',\n",
    "  'section': 'General course-related questions',\n",
    "  'question': 'Course - Can I follow the course after it finishes?',\n",
    "  'course': 'data-engineering-zoomcamp'},\n",
    " {'text': \"The purpose of this document is to capture frequently asked technical questions\\nThe exact day and hour of the course will be 15th Jan 2024 at 17h00. The course will start with the first  “Office Hours'' live.1\\nSubscribe to course public Google Calendar (it works from Desktop only).\\nRegister before the course starts using this link.\\nJoin the course Telegram channel with announcements.\\nDon’t forget to register in DataTalks.Club's Slack and join the channel.\",\n",
    "  'section': 'General course-related questions',\n",
    "  'question': 'Course - When will the course start?',\n",
    "  'course': 'data-engineering-zoomcamp'},\n",
    " {'text': 'You can start by installing and setting up all the dependencies and requirements:\\nGoogle cloud account\\nGoogle Cloud SDK\\nPython 3 (installed with Anaconda)\\nTerraform\\nGit\\nLook over the prerequisites and syllabus to see if you are comfortable with these subjects.',\n",
    "  'section': 'General course-related questions',\n",
    "  'question': 'Course - What can I do before the course starts?',\n",
    "  'course': 'data-engineering-zoomcamp'},\n",
    " {'text': 'Star the repo! Share it with friends if you find it useful ❣️\\nCreate a PR if you see you can improve the text or the structure of the repository.',\n",
    "  'section': 'General course-related questions',\n",
    "  'question': 'How can we contribute to the course?',\n",
    "  'course': 'data-engineering-zoomcamp'}]"
   ]
  },
  {
   "cell_type": "markdown",
   "id": "6671c709",
   "metadata": {},
   "source": [
    "Compute the embeddings for the text field, and compute the \n",
    "cosine between the query vector and all the documents.\n",
    "\n",
    "What's the document index with the highest similarity? (Indexing starts from 0):\n",
    "\n",
    "- 0\n",
    "- 1\n",
    "- 2\n",
    "- 3\n",
    "- 4\n",
    "\n",
    "Hint: if you put all the embeddings of the text field in one matrix `V` (a single 2-dimensional numpy array), then\n",
    "computing the cosine becomes a matrix multiplication:\n",
    "\n",
    "```python\n",
    "V.dot(q)\n",
    "```\n",
    "\n",
    "If this hint is rather confusing you than helping, feel free\n",
    "to ignore it."
   ]
  },
  {
   "cell_type": "code",
   "execution_count": 30,
   "id": "d6634771",
   "metadata": {},
   "outputs": [
    {
     "name": "stdout",
     "output_type": "stream",
     "text": [
      "-------\n",
      "Course - Can I still join the course after the start date?\n",
      "0.762968451872193\n",
      "-------\n",
      "Course - Can I follow the course after it finishes?\n",
      "0.8182378156620136\n",
      "-------\n",
      "Course - When will the course start?\n",
      "0.8085397445747489\n",
      "-------\n",
      "Course - What can I do before the course starts?\n",
      "0.7133078832064158\n",
      "-------\n",
      "How can we contribute to the course?\n",
      "0.7304499196411823\n"
     ]
    }
   ],
   "source": [
    "emb_list = []\n",
    "for doc in documents:\n",
    "    print(\"-------\")\n",
    "    print(doc['question'])\n",
    "    #print(doc['text'])\n",
    "    doc_embeddings = list(model.embed(doc['text']))\n",
    "    doc_embedding_vector = doc_embeddings[0]\n",
    "    print(doc_embedding_vector.dot(embedding_vector))\n",
    "    emb_list.append(doc_embedding_vector)\n",
    "V = np.vstack([emb_list[0], emb_list[1], emb_list[2] , emb_list[3], emb_list[4]])"
   ]
  },
  {
   "cell_type": "code",
   "execution_count": 26,
   "id": "2f38776c",
   "metadata": {},
   "outputs": [
    {
     "data": {
      "text/plain": [
       "array([0.76296845, 0.81823782, 0.80853974, 0.71330788, 0.73044992])"
      ]
     },
     "execution_count": 26,
     "metadata": {},
     "output_type": "execute_result"
    }
   ],
   "source": [
    "V.dot(embedding_vector)"
   ]
  },
  {
   "cell_type": "markdown",
   "id": "1b41931d",
   "metadata": {},
   "source": [
    "## Q3 ANSWER\n",
    "b) the closest distance is 0.81823782 for index 1"
   ]
  },
  {
   "cell_type": "markdown",
   "id": "3c6141e1",
   "metadata": {},
   "source": [
    "## Q4. Ranking by cosine, version two\n",
    "\n",
    "Now let's calculate a new field, which is a concatenation of\n",
    "`question` and `text`:\n",
    "\n",
    "```python\n",
    "full_text = doc['question'] + ' ' + doc['text']\n",
    "``` \n",
    "\n",
    "Embed this field and compute the cosine between it and the\n",
    "query vector. What's the highest scoring document?\n",
    "\n",
    "- 0\n",
    "- 1\n",
    "- 2\n",
    "- 3\n",
    "- 4\n",
    "\n",
    "Is it different from Q3? If yes, why?"
   ]
  },
  {
   "cell_type": "code",
   "execution_count": 19,
   "id": "44b008c9",
   "metadata": {},
   "outputs": [],
   "source": [
    "emb_list = []\n",
    "for doc in documents:\n",
    "    full_text = doc['question'] + ' ' + doc['text']\n",
    "    doc_embeddings = list(model.embed(full_text))\n",
    "    doc_embedding_vector = doc_embeddings[0]\n",
    "    emb_list.append(doc_embedding_vector)\n",
    "V = np.vstack([emb_list[0], emb_list[1], emb_list[2] , emb_list[3], emb_list[4]])"
   ]
  },
  {
   "cell_type": "code",
   "execution_count": 20,
   "id": "22798ee6",
   "metadata": {},
   "outputs": [
    {
     "data": {
      "text/plain": [
       "array([0.85145432, 0.8436594 , 0.84082872, 0.77551577, 0.80860079])"
      ]
     },
     "execution_count": 20,
     "metadata": {},
     "output_type": "execute_result"
    }
   ],
   "source": [
    "V.dot(embedding_vector)"
   ]
  },
  {
   "cell_type": "markdown",
   "id": "9a4d534a",
   "metadata": {},
   "source": [
    "## Q4 ANSWER\n",
    "a) 0.85 index 0"
   ]
  },
  {
   "cell_type": "markdown",
   "id": "0639b22e",
   "metadata": {},
   "source": [
    "## Q5. Selecting the embedding model\n",
    "\n",
    "Now let's select a smaller embedding model.\n",
    "What's the smallest dimensionality for models in fastembed?\n",
    "\n",
    "- 128\n",
    "- 256\n",
    "- 384\n",
    "- 512\n",
    "\n",
    "One of these models is `BAAI/bge-small-en`. Let's use it."
   ]
  },
  {
   "cell_type": "markdown",
   "id": "bf4fcc3b",
   "metadata": {},
   "source": [
    "## Q5 SOLUTION"
   ]
  },
  {
   "cell_type": "code",
   "execution_count": 32,
   "id": "269f9a2e",
   "metadata": {},
   "outputs": [
    {
     "data": {
      "text/plain": [
       "30"
      ]
     },
     "execution_count": 32,
     "metadata": {},
     "output_type": "execute_result"
    }
   ],
   "source": [
    "len(TextEmbedding.list_supported_models())"
   ]
  },
  {
   "cell_type": "code",
   "execution_count": 34,
   "id": "8dbc7e52",
   "metadata": {},
   "outputs": [],
   "source": [
    "import json\n",
    "dim_list = []\n",
    "for model in TextEmbedding.list_supported_models():\n",
    "    dim_list.append(model[\"dim\"]) \n"
   ]
  },
  {
   "cell_type": "code",
   "execution_count": 35,
   "id": "4a13d416",
   "metadata": {},
   "outputs": [
    {
     "data": {
      "text/plain": [
       "384"
      ]
     },
     "execution_count": 35,
     "metadata": {},
     "output_type": "execute_result"
    }
   ],
   "source": [
    "min(dim_list)"
   ]
  },
  {
   "cell_type": "markdown",
   "id": "91666ef0",
   "metadata": {},
   "source": [
    "## Q5 ANSWER\n",
    "c) 384"
   ]
  },
  {
   "cell_type": "markdown",
   "id": "c00c8960",
   "metadata": {},
   "source": [
    "## Q6. Indexing with qdrant (2 points)\n",
    "\n",
    "For the last question, we will use more documents.\n",
    "\n",
    "We will select only FAQ records from our ml zoomcamp:"
   ]
  },
  {
   "cell_type": "code",
   "execution_count": 61,
   "id": "97bca606",
   "metadata": {},
   "outputs": [],
   "source": [
    "import requests \n",
    "\n",
    "docs_url = 'https://github.com/alexeygrigorev/llm-rag-workshop/raw/main/notebooks/documents.json'\n",
    "docs_response = requests.get(docs_url)\n",
    "documents_raw = docs_response.json()\n",
    "\n",
    "\n",
    "documents = []\n",
    "\n",
    "for course in documents_raw:\n",
    "    course_name = course['course']\n",
    "    if course_name != 'machine-learning-zoomcamp':\n",
    "        continue\n",
    "\n",
    "    for doc in course['documents']:\n",
    "        doc['course'] = course_name\n",
    "        documents.append(doc)"
   ]
  },
  {
   "cell_type": "code",
   "execution_count": 86,
   "id": "102c3fb1",
   "metadata": {},
   "outputs": [
    {
     "data": {
      "text/plain": [
       "375"
      ]
     },
     "execution_count": 86,
     "metadata": {},
     "output_type": "execute_result"
    }
   ],
   "source": [
    "len(documents_raw[1]['documents'])"
   ]
  },
  {
   "cell_type": "markdown",
   "id": "b63d1add",
   "metadata": {},
   "source": [
    "Add them to qdrant using the model form Q5.\n",
    "\n",
    "When adding the data, use both question and answer fields:\n",
    "\n",
    "```python\n",
    "text = doc['question'] + ' ' + doc['text']\n",
    "```\n",
    "\n",
    "After the data is inserted, use the question from Q1 for querying the collection.\n",
    "\n",
    "What's the highest score in the results?\n",
    "(The score for the first returned record):\n",
    "\n",
    "- 0.97\n",
    "- 0.87\n",
    "- 0.77\n",
    "- 0.67"
   ]
  },
  {
   "cell_type": "code",
   "execution_count": 62,
   "id": "d82ed52a",
   "metadata": {},
   "outputs": [],
   "source": [
    "from qdrant_client import QdrantClient, models\n",
    "client = QdrantClient(\"http://localhost:6333\") #connecting to local Qdrant instance"
   ]
  },
  {
   "cell_type": "code",
   "execution_count": 63,
   "id": "d9430ea5",
   "metadata": {},
   "outputs": [],
   "source": [
    "model_q6 = \"BAAI/bge-small-en\""
   ]
  },
  {
   "cell_type": "code",
   "execution_count": 64,
   "id": "193bd25e",
   "metadata": {},
   "outputs": [
    {
     "data": {
      "text/plain": [
       "True"
      ]
     },
     "execution_count": 64,
     "metadata": {},
     "output_type": "execute_result"
    }
   ],
   "source": [
    "# Define the collection name\n",
    "collection_name = \"homework\"\n",
    "\n",
    "# Create the collection with specified vector parameters\n",
    "client.create_collection(\n",
    "    collection_name=collection_name,\n",
    "    vectors_config=models.VectorParams(\n",
    "        size=384,  # Dimensionality of the vectors\n",
    "        distance=models.Distance.COSINE  # Distance metric for similarity search\n",
    "    )\n",
    ")"
   ]
  },
  {
   "cell_type": "code",
   "execution_count": 90,
   "id": "d257f4a9",
   "metadata": {},
   "outputs": [
    {
     "name": "stdout",
     "output_type": "stream",
     "text": [
      "machine-learning-zoomcamp\n",
      "machine-learning-zoomcamp\n",
      "machine-learning-zoomcamp\n",
      "machine-learning-zoomcamp\n",
      "machine-learning-zoomcamp\n",
      "machine-learning-zoomcamp\n",
      "machine-learning-zoomcamp\n",
      "machine-learning-zoomcamp\n",
      "machine-learning-zoomcamp\n",
      "machine-learning-zoomcamp\n",
      "machine-learning-zoomcamp\n",
      "machine-learning-zoomcamp\n",
      "machine-learning-zoomcamp\n",
      "machine-learning-zoomcamp\n",
      "machine-learning-zoomcamp\n",
      "machine-learning-zoomcamp\n",
      "machine-learning-zoomcamp\n",
      "machine-learning-zoomcamp\n",
      "machine-learning-zoomcamp\n",
      "machine-learning-zoomcamp\n",
      "machine-learning-zoomcamp\n",
      "machine-learning-zoomcamp\n",
      "machine-learning-zoomcamp\n",
      "machine-learning-zoomcamp\n",
      "machine-learning-zoomcamp\n",
      "machine-learning-zoomcamp\n",
      "machine-learning-zoomcamp\n",
      "machine-learning-zoomcamp\n",
      "machine-learning-zoomcamp\n",
      "machine-learning-zoomcamp\n",
      "machine-learning-zoomcamp\n",
      "machine-learning-zoomcamp\n",
      "machine-learning-zoomcamp\n",
      "machine-learning-zoomcamp\n",
      "machine-learning-zoomcamp\n",
      "machine-learning-zoomcamp\n",
      "machine-learning-zoomcamp\n",
      "machine-learning-zoomcamp\n",
      "machine-learning-zoomcamp\n",
      "machine-learning-zoomcamp\n",
      "machine-learning-zoomcamp\n",
      "machine-learning-zoomcamp\n",
      "machine-learning-zoomcamp\n",
      "machine-learning-zoomcamp\n",
      "machine-learning-zoomcamp\n",
      "machine-learning-zoomcamp\n",
      "machine-learning-zoomcamp\n",
      "machine-learning-zoomcamp\n",
      "machine-learning-zoomcamp\n",
      "machine-learning-zoomcamp\n",
      "machine-learning-zoomcamp\n",
      "machine-learning-zoomcamp\n",
      "machine-learning-zoomcamp\n",
      "machine-learning-zoomcamp\n",
      "machine-learning-zoomcamp\n",
      "machine-learning-zoomcamp\n",
      "machine-learning-zoomcamp\n",
      "machine-learning-zoomcamp\n",
      "machine-learning-zoomcamp\n",
      "machine-learning-zoomcamp\n",
      "machine-learning-zoomcamp\n",
      "machine-learning-zoomcamp\n",
      "machine-learning-zoomcamp\n",
      "machine-learning-zoomcamp\n",
      "machine-learning-zoomcamp\n",
      "machine-learning-zoomcamp\n",
      "machine-learning-zoomcamp\n",
      "machine-learning-zoomcamp\n",
      "machine-learning-zoomcamp\n",
      "machine-learning-zoomcamp\n",
      "machine-learning-zoomcamp\n",
      "machine-learning-zoomcamp\n",
      "machine-learning-zoomcamp\n",
      "machine-learning-zoomcamp\n",
      "machine-learning-zoomcamp\n",
      "machine-learning-zoomcamp\n",
      "machine-learning-zoomcamp\n",
      "machine-learning-zoomcamp\n",
      "machine-learning-zoomcamp\n",
      "machine-learning-zoomcamp\n",
      "machine-learning-zoomcamp\n",
      "machine-learning-zoomcamp\n",
      "machine-learning-zoomcamp\n",
      "machine-learning-zoomcamp\n",
      "machine-learning-zoomcamp\n",
      "machine-learning-zoomcamp\n",
      "machine-learning-zoomcamp\n",
      "machine-learning-zoomcamp\n",
      "machine-learning-zoomcamp\n",
      "machine-learning-zoomcamp\n",
      "machine-learning-zoomcamp\n",
      "machine-learning-zoomcamp\n",
      "machine-learning-zoomcamp\n",
      "machine-learning-zoomcamp\n",
      "machine-learning-zoomcamp\n",
      "machine-learning-zoomcamp\n",
      "machine-learning-zoomcamp\n",
      "machine-learning-zoomcamp\n",
      "machine-learning-zoomcamp\n",
      "machine-learning-zoomcamp\n",
      "machine-learning-zoomcamp\n",
      "machine-learning-zoomcamp\n",
      "machine-learning-zoomcamp\n",
      "machine-learning-zoomcamp\n",
      "machine-learning-zoomcamp\n",
      "machine-learning-zoomcamp\n",
      "machine-learning-zoomcamp\n",
      "machine-learning-zoomcamp\n",
      "machine-learning-zoomcamp\n",
      "machine-learning-zoomcamp\n",
      "machine-learning-zoomcamp\n",
      "machine-learning-zoomcamp\n",
      "machine-learning-zoomcamp\n",
      "machine-learning-zoomcamp\n",
      "machine-learning-zoomcamp\n",
      "machine-learning-zoomcamp\n",
      "machine-learning-zoomcamp\n",
      "machine-learning-zoomcamp\n",
      "machine-learning-zoomcamp\n",
      "machine-learning-zoomcamp\n",
      "machine-learning-zoomcamp\n",
      "machine-learning-zoomcamp\n",
      "machine-learning-zoomcamp\n",
      "machine-learning-zoomcamp\n",
      "machine-learning-zoomcamp\n",
      "machine-learning-zoomcamp\n",
      "machine-learning-zoomcamp\n",
      "machine-learning-zoomcamp\n",
      "machine-learning-zoomcamp\n",
      "machine-learning-zoomcamp\n",
      "machine-learning-zoomcamp\n",
      "machine-learning-zoomcamp\n",
      "machine-learning-zoomcamp\n",
      "machine-learning-zoomcamp\n",
      "machine-learning-zoomcamp\n",
      "machine-learning-zoomcamp\n",
      "machine-learning-zoomcamp\n",
      "machine-learning-zoomcamp\n",
      "machine-learning-zoomcamp\n",
      "machine-learning-zoomcamp\n",
      "machine-learning-zoomcamp\n",
      "machine-learning-zoomcamp\n",
      "machine-learning-zoomcamp\n",
      "machine-learning-zoomcamp\n",
      "machine-learning-zoomcamp\n",
      "machine-learning-zoomcamp\n",
      "machine-learning-zoomcamp\n",
      "machine-learning-zoomcamp\n",
      "machine-learning-zoomcamp\n",
      "machine-learning-zoomcamp\n",
      "machine-learning-zoomcamp\n",
      "machine-learning-zoomcamp\n",
      "machine-learning-zoomcamp\n",
      "machine-learning-zoomcamp\n",
      "machine-learning-zoomcamp\n",
      "machine-learning-zoomcamp\n",
      "machine-learning-zoomcamp\n",
      "machine-learning-zoomcamp\n",
      "machine-learning-zoomcamp\n",
      "machine-learning-zoomcamp\n",
      "machine-learning-zoomcamp\n",
      "machine-learning-zoomcamp\n",
      "machine-learning-zoomcamp\n",
      "machine-learning-zoomcamp\n",
      "machine-learning-zoomcamp\n",
      "machine-learning-zoomcamp\n",
      "machine-learning-zoomcamp\n",
      "machine-learning-zoomcamp\n",
      "machine-learning-zoomcamp\n",
      "machine-learning-zoomcamp\n",
      "machine-learning-zoomcamp\n",
      "machine-learning-zoomcamp\n",
      "machine-learning-zoomcamp\n",
      "machine-learning-zoomcamp\n",
      "machine-learning-zoomcamp\n",
      "machine-learning-zoomcamp\n",
      "machine-learning-zoomcamp\n",
      "machine-learning-zoomcamp\n",
      "machine-learning-zoomcamp\n",
      "machine-learning-zoomcamp\n",
      "machine-learning-zoomcamp\n",
      "machine-learning-zoomcamp\n",
      "machine-learning-zoomcamp\n",
      "machine-learning-zoomcamp\n",
      "machine-learning-zoomcamp\n",
      "machine-learning-zoomcamp\n",
      "machine-learning-zoomcamp\n",
      "machine-learning-zoomcamp\n",
      "machine-learning-zoomcamp\n",
      "machine-learning-zoomcamp\n",
      "machine-learning-zoomcamp\n",
      "machine-learning-zoomcamp\n",
      "machine-learning-zoomcamp\n",
      "machine-learning-zoomcamp\n",
      "machine-learning-zoomcamp\n",
      "machine-learning-zoomcamp\n",
      "machine-learning-zoomcamp\n",
      "machine-learning-zoomcamp\n",
      "machine-learning-zoomcamp\n",
      "machine-learning-zoomcamp\n",
      "machine-learning-zoomcamp\n",
      "machine-learning-zoomcamp\n",
      "machine-learning-zoomcamp\n",
      "machine-learning-zoomcamp\n",
      "machine-learning-zoomcamp\n",
      "machine-learning-zoomcamp\n",
      "machine-learning-zoomcamp\n",
      "machine-learning-zoomcamp\n",
      "machine-learning-zoomcamp\n",
      "machine-learning-zoomcamp\n",
      "machine-learning-zoomcamp\n",
      "machine-learning-zoomcamp\n",
      "machine-learning-zoomcamp\n",
      "machine-learning-zoomcamp\n",
      "machine-learning-zoomcamp\n",
      "machine-learning-zoomcamp\n",
      "machine-learning-zoomcamp\n",
      "machine-learning-zoomcamp\n",
      "machine-learning-zoomcamp\n",
      "machine-learning-zoomcamp\n",
      "machine-learning-zoomcamp\n",
      "machine-learning-zoomcamp\n",
      "machine-learning-zoomcamp\n",
      "machine-learning-zoomcamp\n",
      "machine-learning-zoomcamp\n",
      "machine-learning-zoomcamp\n",
      "machine-learning-zoomcamp\n",
      "machine-learning-zoomcamp\n",
      "machine-learning-zoomcamp\n",
      "machine-learning-zoomcamp\n",
      "machine-learning-zoomcamp\n",
      "machine-learning-zoomcamp\n",
      "machine-learning-zoomcamp\n",
      "machine-learning-zoomcamp\n",
      "machine-learning-zoomcamp\n",
      "machine-learning-zoomcamp\n",
      "machine-learning-zoomcamp\n",
      "machine-learning-zoomcamp\n",
      "machine-learning-zoomcamp\n",
      "machine-learning-zoomcamp\n",
      "machine-learning-zoomcamp\n",
      "machine-learning-zoomcamp\n",
      "machine-learning-zoomcamp\n",
      "machine-learning-zoomcamp\n",
      "machine-learning-zoomcamp\n",
      "machine-learning-zoomcamp\n",
      "machine-learning-zoomcamp\n",
      "machine-learning-zoomcamp\n",
      "machine-learning-zoomcamp\n",
      "machine-learning-zoomcamp\n",
      "machine-learning-zoomcamp\n",
      "machine-learning-zoomcamp\n",
      "machine-learning-zoomcamp\n",
      "machine-learning-zoomcamp\n",
      "machine-learning-zoomcamp\n",
      "machine-learning-zoomcamp\n",
      "machine-learning-zoomcamp\n",
      "machine-learning-zoomcamp\n",
      "machine-learning-zoomcamp\n",
      "machine-learning-zoomcamp\n",
      "machine-learning-zoomcamp\n",
      "machine-learning-zoomcamp\n",
      "machine-learning-zoomcamp\n",
      "machine-learning-zoomcamp\n",
      "machine-learning-zoomcamp\n",
      "machine-learning-zoomcamp\n",
      "machine-learning-zoomcamp\n",
      "machine-learning-zoomcamp\n",
      "machine-learning-zoomcamp\n",
      "machine-learning-zoomcamp\n",
      "machine-learning-zoomcamp\n",
      "machine-learning-zoomcamp\n",
      "machine-learning-zoomcamp\n",
      "machine-learning-zoomcamp\n",
      "machine-learning-zoomcamp\n",
      "machine-learning-zoomcamp\n",
      "machine-learning-zoomcamp\n",
      "machine-learning-zoomcamp\n",
      "machine-learning-zoomcamp\n",
      "machine-learning-zoomcamp\n",
      "machine-learning-zoomcamp\n",
      "machine-learning-zoomcamp\n",
      "machine-learning-zoomcamp\n",
      "machine-learning-zoomcamp\n",
      "machine-learning-zoomcamp\n",
      "machine-learning-zoomcamp\n",
      "machine-learning-zoomcamp\n",
      "machine-learning-zoomcamp\n",
      "machine-learning-zoomcamp\n",
      "machine-learning-zoomcamp\n",
      "machine-learning-zoomcamp\n",
      "machine-learning-zoomcamp\n",
      "machine-learning-zoomcamp\n",
      "machine-learning-zoomcamp\n",
      "machine-learning-zoomcamp\n",
      "machine-learning-zoomcamp\n",
      "machine-learning-zoomcamp\n",
      "machine-learning-zoomcamp\n",
      "machine-learning-zoomcamp\n",
      "machine-learning-zoomcamp\n",
      "machine-learning-zoomcamp\n",
      "machine-learning-zoomcamp\n",
      "machine-learning-zoomcamp\n",
      "machine-learning-zoomcamp\n",
      "machine-learning-zoomcamp\n",
      "machine-learning-zoomcamp\n",
      "machine-learning-zoomcamp\n",
      "machine-learning-zoomcamp\n",
      "machine-learning-zoomcamp\n",
      "machine-learning-zoomcamp\n",
      "machine-learning-zoomcamp\n",
      "machine-learning-zoomcamp\n",
      "machine-learning-zoomcamp\n",
      "machine-learning-zoomcamp\n",
      "machine-learning-zoomcamp\n",
      "machine-learning-zoomcamp\n",
      "machine-learning-zoomcamp\n",
      "machine-learning-zoomcamp\n",
      "machine-learning-zoomcamp\n",
      "machine-learning-zoomcamp\n",
      "machine-learning-zoomcamp\n",
      "machine-learning-zoomcamp\n",
      "machine-learning-zoomcamp\n",
      "machine-learning-zoomcamp\n",
      "machine-learning-zoomcamp\n",
      "machine-learning-zoomcamp\n",
      "machine-learning-zoomcamp\n",
      "machine-learning-zoomcamp\n",
      "machine-learning-zoomcamp\n",
      "machine-learning-zoomcamp\n",
      "machine-learning-zoomcamp\n",
      "machine-learning-zoomcamp\n",
      "machine-learning-zoomcamp\n",
      "machine-learning-zoomcamp\n",
      "machine-learning-zoomcamp\n",
      "machine-learning-zoomcamp\n",
      "machine-learning-zoomcamp\n",
      "machine-learning-zoomcamp\n",
      "machine-learning-zoomcamp\n",
      "machine-learning-zoomcamp\n",
      "machine-learning-zoomcamp\n",
      "machine-learning-zoomcamp\n",
      "machine-learning-zoomcamp\n",
      "machine-learning-zoomcamp\n",
      "machine-learning-zoomcamp\n",
      "machine-learning-zoomcamp\n",
      "machine-learning-zoomcamp\n",
      "machine-learning-zoomcamp\n",
      "machine-learning-zoomcamp\n",
      "machine-learning-zoomcamp\n",
      "machine-learning-zoomcamp\n",
      "machine-learning-zoomcamp\n",
      "machine-learning-zoomcamp\n",
      "machine-learning-zoomcamp\n",
      "machine-learning-zoomcamp\n",
      "machine-learning-zoomcamp\n",
      "machine-learning-zoomcamp\n",
      "machine-learning-zoomcamp\n",
      "machine-learning-zoomcamp\n",
      "machine-learning-zoomcamp\n",
      "machine-learning-zoomcamp\n",
      "machine-learning-zoomcamp\n",
      "machine-learning-zoomcamp\n",
      "machine-learning-zoomcamp\n",
      "machine-learning-zoomcamp\n",
      "machine-learning-zoomcamp\n",
      "machine-learning-zoomcamp\n",
      "machine-learning-zoomcamp\n",
      "machine-learning-zoomcamp\n",
      "machine-learning-zoomcamp\n",
      "machine-learning-zoomcamp\n",
      "machine-learning-zoomcamp\n",
      "machine-learning-zoomcamp\n",
      "machine-learning-zoomcamp\n",
      "machine-learning-zoomcamp\n"
     ]
    }
   ],
   "source": [
    "points = []\n",
    "id = 0\n",
    "\n",
    "\n",
    "for doc in documents:\n",
    "    print(doc['course'])\n",
    "    text = doc['question'] + ' ' + doc['text']\n",
    "    point = models.PointStruct(\n",
    "        id=id,\n",
    "        vector=models.Document(text=text, model=model_q6), #embed text locally with \"jinaai/jina-embeddings-v2-small-en\" from FastEmbed\n",
    "        payload={\n",
    "            \"text\": doc['text'],\n",
    "            \"section\": doc['section'],\n",
    "            \"course\": doc['course']\n",
    "        } #save all needed metadata fields\n",
    "    )\n",
    "    points.append(point)\n",
    "\n",
    "    id += 1"
   ]
  },
  {
   "cell_type": "code",
   "execution_count": 91,
   "id": "d5d8c865",
   "metadata": {},
   "outputs": [
    {
     "data": {
      "text/plain": [
       "UpdateResult(operation_id=1, status=<UpdateStatus.COMPLETED: 'completed'>)"
      ]
     },
     "execution_count": 91,
     "metadata": {},
     "output_type": "execute_result"
    }
   ],
   "source": [
    "client.upsert(\n",
    "    collection_name=collection_name,\n",
    "    points=points\n",
    ")"
   ]
  },
  {
   "cell_type": "code",
   "execution_count": 92,
   "id": "4ce7d4ec",
   "metadata": {},
   "outputs": [
    {
     "data": {
      "text/plain": [
       "375"
      ]
     },
     "execution_count": 92,
     "metadata": {},
     "output_type": "execute_result"
    }
   ],
   "source": [
    "len(points)"
   ]
  },
  {
   "cell_type": "code",
   "execution_count": 93,
   "id": "07ab4caf",
   "metadata": {},
   "outputs": [],
   "source": [
    "def search(query, limit=1):\n",
    "\n",
    "    results = client.query_points(\n",
    "        collection_name=collection_name,\n",
    "        query=models.Document( \n",
    "            text=query,\n",
    "            model=model_q6\n",
    "        ),\n",
    "        limit=limit, # top closest matches\n",
    "        with_payload=True #to get metadata in the results\n",
    "    )\n",
    "\n",
    "    return results"
   ]
  },
  {
   "cell_type": "code",
   "execution_count": 94,
   "id": "c4b1ed62",
   "metadata": {},
   "outputs": [],
   "source": [
    "result = search(query1)"
   ]
  },
  {
   "cell_type": "code",
   "execution_count": 95,
   "id": "29e7b8be",
   "metadata": {},
   "outputs": [
    {
     "data": {
      "text/plain": [
       "{'text': 'Yes, you can. You won’t be able to submit some of the homeworks, but you can still take part in the course.\\nIn order to get a certificate, you need to submit 2 out of 3 course projects and review 3 peers’ Projects by the deadline. It means that if you join the course at the end of November and manage to work on two projects, you will still be eligible for a certificate.',\n",
       " 'section': 'General course-related questions',\n",
       " 'course': 'machine-learning-zoomcamp'}"
      ]
     },
     "execution_count": 95,
     "metadata": {},
     "output_type": "execute_result"
    }
   ],
   "source": [
    "result.points[0].payload"
   ]
  },
  {
   "cell_type": "code",
   "execution_count": 96,
   "id": "e661e53a",
   "metadata": {},
   "outputs": [
    {
     "data": {
      "text/plain": [
       "0.87031734"
      ]
     },
     "execution_count": 96,
     "metadata": {},
     "output_type": "execute_result"
    }
   ],
   "source": [
    "result.points[0].score"
   ]
  },
  {
   "cell_type": "markdown",
   "id": "292ddc44",
   "metadata": {},
   "source": [
    "## Q6 ANSWER\n",
    "b) 0.87\n"
   ]
  },
  {
   "cell_type": "markdown",
   "id": "2005f1bd",
   "metadata": {},
   "source": []
  },
  {
   "cell_type": "markdown",
   "id": "4783ba47",
   "metadata": {},
   "source": []
  },
  {
   "cell_type": "markdown",
   "id": "abf46533",
   "metadata": {},
   "source": []
  }
 ],
 "metadata": {
  "kernelspec": {
   "display_name": "Python 3",
   "language": "python",
   "name": "python3"
  },
  "language_info": {
   "codemirror_mode": {
    "name": "ipython",
    "version": 3
   },
   "file_extension": ".py",
   "mimetype": "text/x-python",
   "name": "python",
   "nbconvert_exporter": "python",
   "pygments_lexer": "ipython3",
   "version": "3.12.1"
  }
 },
 "nbformat": 4,
 "nbformat_minor": 5
}
