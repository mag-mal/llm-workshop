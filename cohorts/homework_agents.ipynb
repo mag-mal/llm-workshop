{
 "cells": [
  {
   "cell_type": "markdown",
   "id": "3995a16a",
   "metadata": {},
   "source": [
    "## Homework: Agents\n",
    "\n",
    "In this homework, we will learn more about function calling,\n",
    "and we will also explore MCP - model-context protocol. \n",
    "\n",
    "\n",
    "## Preparation\n",
    "\n",
    "First, we'll define a function that we will use when building\n",
    "our agent. \n",
    "\n",
    "It will generate fake weather data:"
   ]
  },
  {
   "cell_type": "markdown",
   "id": "5de713b3",
   "metadata": {},
   "source": []
  },
  {
   "cell_type": "code",
   "execution_count": 1,
   "id": "96326aba",
   "metadata": {},
   "outputs": [],
   "source": [
    "import random\n",
    "\n",
    "known_weather_data = {\n",
    "    'berlin': 20.0\n",
    "}\n",
    "\n",
    "def get_weather(city: str) -> float:\n",
    "    city = city.strip().lower()\n",
    "\n",
    "    if city in known_weather_data:\n",
    "        return known_weather_data[city]\n",
    "\n",
    "    return round(random.uniform(-5, 35), 1)"
   ]
  },
  {
   "cell_type": "markdown",
   "id": "27eee8c2",
   "metadata": {},
   "source": [
    "## Q1. Define function description\n",
    "\n",
    "We want to use it as a tool for our agent, so we need to \n",
    "describe it \n",
    "\n",
    "How should the description for this function look like? Fill in missing parts"
   ]
  },
  {
   "cell_type": "markdown",
   "id": "5f935b11",
   "metadata": {},
   "source": [
    "get_weather_tool = {\n",
    "    \"type\": \"function\",\n",
    "    \"name\": \"<TODO1>\",\n",
    "    \"description\": \"<TODO2>\",\n",
    "    \"parameters\": {\n",
    "        \"type\": \"object\",\n",
    "        \"properties\": {\n",
    "            \"<TODO3>\": {\n",
    "                \"type\": \"string\",\n",
    "                \"description\": \"<TODO4>\"\n",
    "            }\n",
    "        },\n",
    "        \"required\": [TODO5],\n",
    "        \"additionalProperties\": False\n",
    "    }\n",
    "}"
   ]
  },
  {
   "cell_type": "markdown",
   "id": "781e27d6",
   "metadata": {},
   "source": [
    "What did you put in `TODO3`?"
   ]
  },
  {
   "cell_type": "markdown",
   "id": "5a90d824",
   "metadata": {},
   "source": [
    "## Q1 ANSWER\n",
    "query"
   ]
  },
  {
   "cell_type": "markdown",
   "id": "d23be7e7",
   "metadata": {},
   "source": [
    "\n",
    "## Testing it (Optional)\n",
    "\n",
    "If you have OpenAI API Key (or alternative provider),\n",
    "let's test it.\n",
    "\n",
    "A question could be \"What's the weather like in Germany?\"\n",
    "\n",
    "Experiment with different system prompts to have better answers\n",
    "from the system.\n",
    "\n",
    "You can use [chat_assistant.py](https://github.com/alexeygrigorev/rag-agents-workshop/blob/main/chat_assistant.py)\n",
    "or implement everything yourself "
   ]
  },
  {
   "cell_type": "code",
   "execution_count": 6,
   "id": "145bbe6e",
   "metadata": {},
   "outputs": [
    {
     "name": "stdout",
     "output_type": "stream",
     "text": [
      "--2025-07-14 21:03:02--  https://raw.githubusercontent.com/alexeygrigorev/rag-agents-workshop/refs/heads/main/chat_assistant.py\n",
      "Resolving raw.githubusercontent.com (raw.githubusercontent.com)... 185.199.111.133, 185.199.108.133, 185.199.109.133, ...\n",
      "Connecting to raw.githubusercontent.com (raw.githubusercontent.com)|185.199.111.133|:443... connected.\n",
      "HTTP request sent, awaiting response... 200 OK\n",
      "Length: 3485 (3.4K) [text/plain]\n",
      "Saving to: ‘chat_assistant.py’\n",
      "\n",
      "chat_assistant.py   100%[===================>]   3.40K  --.-KB/s    in 0s      \n",
      "\n",
      "2025-07-14 21:03:02 (59.1 MB/s) - ‘chat_assistant.py’ saved [3485/3485]\n",
      "\n"
     ]
    }
   ],
   "source": [
    "!wget https://raw.githubusercontent.com/alexeygrigorev/rag-agents-workshop/refs/heads/main/chat_assistant.py"
   ]
  },
  {
   "cell_type": "markdown",
   "id": "f41d8ea3",
   "metadata": {},
   "source": [
    "## Q2. Adding another tool\n",
    "\n",
    "Let's add another tool - a function that can add weather data\n",
    "to our database:"
   ]
  },
  {
   "cell_type": "code",
   "execution_count": 7,
   "id": "e19c11ac",
   "metadata": {},
   "outputs": [],
   "source": [
    "def set_weather(city: str, temp: float) -> None:\n",
    "    city = city.strip().lower()\n",
    "    known_weather_data[city] = temp\n",
    "    return 'OK'"
   ]
  },
  {
   "cell_type": "markdown",
   "id": "f00f2504",
   "metadata": {},
   "source": [
    "Now let's write a description for it.\n",
    "\n",
    "What did you write?\n",
    "\n",
    "Optionally, you can test it after adding this function."
   ]
  },
  {
   "cell_type": "markdown",
   "id": "00e38d99",
   "metadata": {},
   "source": [
    "## Q2 ANSWER\n",
    "\"Sets the weather temperature for a given city.\""
   ]
  },
  {
   "cell_type": "markdown",
   "id": "29f5b46b",
   "metadata": {},
   "source": [
    "## MCP\n",
    "\n",
    "MCP stands for Model-Context Protocol. It allows LLMs communicate\n",
    "with different tools (like Qdrant). It's function calling, but \n",
    "one step further:\n",
    "\n",
    "* A tool can export a list of functions it has\n",
    "* When we include the tool to our Agent, we just need to include the link to the MCP server\n",
    "\n",
    "## Q3. Install FastMCP\n",
    "\n",
    "Let's install a library for MCP - [FastMCP](https://github.com/jlowin/fastmcp):"
   ]
  },
  {
   "cell_type": "code",
   "execution_count": 2,
   "id": "e8d17e84",
   "metadata": {},
   "outputs": [],
   "source": [
    "import fastmcp"
   ]
  },
  {
   "cell_type": "markdown",
   "id": "f41f100b",
   "metadata": {},
   "source": [
    "What's the version of FastMCP you installed?"
   ]
  },
  {
   "cell_type": "markdown",
   "id": "2fb5214c",
   "metadata": {},
   "source": [
    "## Q3 ANSWER"
   ]
  },
  {
   "cell_type": "code",
   "execution_count": 3,
   "id": "51f7942a",
   "metadata": {},
   "outputs": [
    {
     "data": {
      "text/plain": [
       "'2.10.5'"
      ]
     },
     "execution_count": 3,
     "metadata": {},
     "output_type": "execute_result"
    }
   ],
   "source": [
    "fastmcp.__version__"
   ]
  },
  {
   "cell_type": "markdown",
   "id": "43f83efe",
   "metadata": {},
   "source": [
    "## Q4. Simple MCP Server \n",
    "\n",
    "A simple MCP server from the documentation looks like that:"
   ]
  },
  {
   "cell_type": "code",
   "execution_count": null,
   "id": "e43200c2",
   "metadata": {},
   "outputs": [],
   "source": [
    "# weather_server.py\n",
    "from fastmcp import FastMCP\n",
    "\n",
    "mcp = FastMCP(\"Demo 🚀\")\n",
    "\n",
    "@mcp.tool\n",
    "def add(a: int, b: int) -> int:\n",
    "    \"\"\"Add two numbers\"\"\"\n",
    "    return a + b\n",
    "\n",
    "if __name__ == \"__main__\":\n",
    "    mcp.run()"
   ]
  },
  {
   "cell_type": "markdown",
   "id": "7aad3db7",
   "metadata": {},
   "source": [
    "In our case, we need to write docstrings for our functions.\n",
    "\n",
    "Let's ask ChatGPT for help:"
   ]
  },
  {
   "cell_type": "code",
   "execution_count": 6,
   "id": "ab1cd7f7",
   "metadata": {},
   "outputs": [],
   "source": [
    "def get_weather(city: str) -> float:\n",
    "    \"\"\"\n",
    "    Retrieves the temperature for a specified city.\n",
    "\n",
    "    Parameters:\n",
    "        city (str): The name of the city for which to retrieve weather data.\n",
    "\n",
    "    Returns:\n",
    "        float: The temperature associated with the city.\n",
    "    \"\"\"\n",
    "    city = city.strip().lower()\n",
    "\n",
    "    if city in known_weather_data:\n",
    "        return known_weather_data[city]\n",
    "\n",
    "    return round(random.uniform(-5, 35), 1)\n",
    "\n",
    "\n",
    "def set_weather(city: str, temp: float) -> None:\n",
    "    \"\"\"\n",
    "    Sets the temperature for a specified city.\n",
    "\n",
    "    Parameters:\n",
    "        city (str): The name of the city for which to set the weather data.\n",
    "        temp (float): The temperature to associate with the city.\n",
    "\n",
    "    Returns:\n",
    "        str: A confirmation string 'OK' indicating successful update.\n",
    "    \"\"\"\n",
    "    city = city.strip().lower()\n",
    "    known_weather_data[city] = temp\n",
    "    return 'OK'"
   ]
  },
  {
   "cell_type": "markdown",
   "id": "271b3fc8",
   "metadata": {},
   "source": [
    "\n",
    "Let's change the example for our case and run it\n",
    "\n",
    "What do you see in the output?\n",
    "\n",
    "Look for a string that matches this template:\n",
    "\n",
    "```\n",
    "Starting MCP server 'Demo 🚀' with transport '<TODO>'\n",
    "```\n",
    "\n",
    "What do you have instead of `<TODO>`?"
   ]
  },
  {
   "cell_type": "markdown",
   "id": "6de0532f",
   "metadata": {},
   "source": [
    "## Q4 ANSWER\n",
    "stdio"
   ]
  },
  {
   "cell_type": "markdown",
   "id": "e3bfa9ef",
   "metadata": {},
   "source": [
    "## Q5. Protocol\n",
    "\n",
    "There are different ways to communicate with an MCP server.\n",
    "Ours is currently running using standart input/output, which\n",
    "means that the client write something to stdin and read the\n",
    "answer using stdout.\n",
    "\n",
    "Our weather server is currently running.\n",
    "\n",
    "This is how we start communitcating with it:\n",
    "\n",
    "- First, we send an initialization request -- this way, we register our client with the server:\n",
    "    ```json\n",
    "    {\"jsonrpc\": \"2.0\", \"id\": 1, \"method\": \"initialize\", \"params\": {\"protocolVersion\": \"2024-11-05\", \"capabilities\": {\"roots\": {\"listChanged\": true}, \"sampling\": {}}, \"clientInfo\": {\"name\": \"test-client\", \"version\": \"1.0.0\"}}}\n",
    "    ```\n",
    "    We should get back something like that, which is an aknowledgement of the request:\n",
    "    ```json\n",
    "    {\"jsonrpc\":\"2.0\",\"id\":1,\"result\":{\"protocolVersion\":\"2024-11-05\",\"capabilities\":{\"experimental\":{},\"prompts\":{\"listChanged\":false},\"resources\":{\"subscribe\":false,\"listChanged\":false},\"tools\":{\"listChanged\":true}},\"serverInfo\":{\"name\":\"Demo 🚀\",\"version\":\"1.9.4\"}}}\n",
    "    ```\n",
    "-  Next, we reply back, confirming the initialization:\n",
    "    ```json\n",
    "    {\"jsonrpc\": \"2.0\", \"method\": \"notifications/initialized\"}\n",
    "    ```\n",
    "    We don't expect to get anything in response\n",
    "- Now we can ask for a list of available methods:\n",
    "    ```json\n",
    "    {\"jsonrpc\": \"2.0\", \"id\": 2, \"method\": \"tools/list\"}\n",
    "    ```\n",
    "- Let's ask the temperature in Berlin:\n",
    "    ```json\n",
    "    {\"jsonrpc\": \"2.0\", \"id\": 3, \"method\": \"tools/call\", \"params\": {\"name\": \"<TODO>\", \"arguments\": {<TODO>}}}\n",
    "    ```\n",
    "- What did you get in response?"
   ]
  },
  {
   "cell_type": "markdown",
   "id": "61fc86c6",
   "metadata": {},
   "source": [
    "## Q5 ANSWER\n",
    "put in terminal: {\"jsonrpc\": \"2.0\", \"id\": 3, \"method\": \"tools/call\", \"params\": {\"name\": \"get_weather\", \"arguments\": {\"city\": \"Berlin\"}}}\n",
    "\n",
    "20.0"
   ]
  },
  {
   "cell_type": "markdown",
   "id": "54967341",
   "metadata": {},
   "source": [
    "## Q6. Client\n",
    "\n",
    "We typically don't interact with the server by copy-pasting \n",
    "commands in the terminal.\n",
    "\n",
    "In practice, we use an MCP Client. Let's implement it. \n",
    "\n",
    "FastMCP also supports MCP clients:"
   ]
  },
  {
   "cell_type": "code",
   "execution_count": 7,
   "id": "f1642fd7",
   "metadata": {},
   "outputs": [
    {
     "ename": "SyntaxError",
     "evalue": "invalid syntax (2621171520.py, line 4)",
     "output_type": "error",
     "traceback": [
      "  \u001b[36mCell\u001b[39m\u001b[36m \u001b[39m\u001b[32mIn[7]\u001b[39m\u001b[32m, line 4\u001b[39m\n\u001b[31m    \u001b[39m\u001b[31masync with Client(<TODO>) as mcp_client:\u001b[39m\n                      ^\n\u001b[31mSyntaxError\u001b[39m\u001b[31m:\u001b[39m invalid syntax\n"
     ]
    }
   ],
   "source": [
    "from fastmcp import Client\n",
    "\n",
    "async def main():\n",
    "    async with Client(<TODO>) as mcp_client:\n",
    "        # TODO"
   ]
  },
  {
   "cell_type": "markdown",
   "id": "c9358510",
   "metadata": {},
   "source": [
    "Use the client to get the list of available tools\n",
    "of our script. How does the result look like?\n",
    "\n",
    "If you're running this code in Jupyter, you need to pass\n",
    "an instance of MCP server to the `Client`:"
   ]
  },
  {
   "cell_type": "code",
   "execution_count": 8,
   "id": "9cd0e18e",
   "metadata": {},
   "outputs": [
    {
     "ename": "SyntaxError",
     "evalue": "incomplete input (1078163820.py, line 5)",
     "output_type": "error",
     "traceback": [
      "  \u001b[36mCell\u001b[39m\u001b[36m \u001b[39m\u001b[32mIn[8]\u001b[39m\u001b[32m, line 5\u001b[39m\n\u001b[31m    \u001b[39m\u001b[31m# ....\u001b[39m\n          ^\n\u001b[31mSyntaxError\u001b[39m\u001b[31m:\u001b[39m incomplete input\n"
     ]
    }
   ],
   "source": [
    "import weather_server\n",
    "\n",
    "async def main():\n",
    "    async with Client(weather_server.mcp) as mcp_client:\n",
    "        # ...."
   ]
  },
  {
   "cell_type": "markdown",
   "id": "7ea7cab4",
   "metadata": {},
   "source": [
    "If you run it in a script, you will need to use asyncio:"
   ]
  },
  {
   "cell_type": "code",
   "execution_count": 9,
   "id": "ab9e7ead",
   "metadata": {},
   "outputs": [
    {
     "ename": "IndentationError",
     "evalue": "expected an indented block after 'with' statement on line 4 (3879519587.py, line 7)",
     "output_type": "error",
     "traceback": [
      "  \u001b[36mCell\u001b[39m\u001b[36m \u001b[39m\u001b[32mIn[9]\u001b[39m\u001b[32m, line 7\u001b[39m\n\u001b[31m    \u001b[39m\u001b[31mif __name__ == \"__main__\":\u001b[39m\n                              ^\n\u001b[31mIndentationError\u001b[39m\u001b[31m:\u001b[39m expected an indented block after 'with' statement on line 4\n"
     ]
    }
   ],
   "source": [
    "import asyncio\n",
    "\n",
    "async def main():\n",
    "    async with Client(\"weather_server.py\") as mcp_client:\n",
    "        # ...\n",
    "\n",
    "if __name__ == \"__main__\":\n",
    "    test = asyncio.run(main())"
   ]
  },
  {
   "cell_type": "markdown",
   "id": "0726ba16",
   "metadata": {},
   "source": [
    "Copy the output with the available tools when\n",
    "filling in the homework form."
   ]
  },
  {
   "cell_type": "code",
   "execution_count": 2,
   "id": "1cb499c2",
   "metadata": {},
   "outputs": [
    {
     "name": "stdout",
     "output_type": "stream",
     "text": [
      "[Tool(name='get_weather', title=None, description='Retrieves the temperature for a specified city.\\n\\nParameters:\\n    city (str): The name of the city for which to retrieve weather data.\\n\\nReturns:\\n    float: The temperature associated with the city.', inputSchema={'properties': {'city': {'title': 'City', 'type': 'string'}}, 'required': ['city'], 'type': 'object'}, outputSchema={'properties': {'result': {'title': 'Result', 'type': 'number'}}, 'required': ['result'], 'title': '_WrappedResult', 'type': 'object', 'x-fastmcp-wrap-result': True}, annotations=None, meta=None), Tool(name='set_weather', title=None, description=\"Sets the temperature for a specified city.\\n\\nParameters:\\n    city (str): The name of the city for which to set the weather data.\\n    temp (float): The temperature to associate with the city.\\n\\nReturns:\\n    str: A confirmation string 'OK' indicating successful update.\", inputSchema={'properties': {'city': {'title': 'City', 'type': 'string'}, 'temp': {'title': 'Temp', 'type': 'number'}}, 'required': ['city', 'temp'], 'type': 'object'}, outputSchema=None, annotations=None, meta=None)]\n"
     ]
    }
   ],
   "source": [
    "from fastmcp import Client\n",
    "import weather_server  # Ensure it has a running MCP server and registered tools\n",
    "import asyncio\n",
    "\n",
    "async def main():\n",
    "    async with Client(weather_server.mcp) as mcp_client:\n",
    "        tools = await mcp_client.list_tools()\n",
    "        print(tools)\n",
    "\n",
    "await main()"
   ]
  },
  {
   "cell_type": "markdown",
   "id": "918013f2",
   "metadata": {},
   "source": [
    "[Tool(name='get_weather', title=None, description='Retrieves the temperature for a specified city.\\n\\nParameters:\\n    city (str): The name of the city for which to retrieve weather data.\\n\\nReturns:\\n    float: The temperature associated with the city.', inputSchema={'properties': {'city': {'title': 'City', 'type': 'string'}}, 'required': ['city'], 'type': 'object'}, outputSchema={'properties': {'result': {'title': 'Result', 'type': 'number'}}, 'required': ['result'], 'title': '_WrappedResult', 'type': 'object', 'x-fastmcp-wrap-result': True}, annotations=None, meta=None), Tool(name='set_weather', title=None, description=\"Sets the temperature for a specified city.\\n\\nParameters:\\n    city (str): The name of the city for which to set the weather data.\\n    temp (float): The temperature to associate with the city.\\n\\nReturns:\\n    str: A confirmation string 'OK' indicating successful update.\", inputSchema={'properties': {'city': {'title': 'City', 'type': 'string'}, 'temp': {'title': 'Temp', 'type': 'number'}}, 'required': ['city', 'temp'], 'type': 'object'}, outputSchema=None, annotations=None, meta=None)]"
   ]
  },
  {
   "cell_type": "code",
   "execution_count": null,
   "id": "ecb11bf9",
   "metadata": {},
   "outputs": [],
   "source": []
  }
 ],
 "metadata": {
  "kernelspec": {
   "display_name": "Python 3",
   "language": "python",
   "name": "python3"
  },
  "language_info": {
   "codemirror_mode": {
    "name": "ipython",
    "version": 3
   },
   "file_extension": ".py",
   "mimetype": "text/x-python",
   "name": "python",
   "nbconvert_exporter": "python",
   "pygments_lexer": "ipython3",
   "version": "3.12.1"
  }
 },
 "nbformat": 4,
 "nbformat_minor": 5
}
