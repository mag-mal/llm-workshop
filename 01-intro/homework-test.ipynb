{
 "cells": [
  {
   "cell_type": "code",
   "execution_count": 1,
   "id": "1eb1d99b-b603-4df6-86aa-58b9c2392755",
   "metadata": {},
   "outputs": [],
   "source": [
    "import openai"
   ]
  },
  {
   "cell_type": "code",
   "execution_count": 2,
   "id": "60a297be-4ce4-4f28-8d21-2d68aaa713b8",
   "metadata": {},
   "outputs": [],
   "source": [
    "from openai import OpenAI"
   ]
  },
  {
   "cell_type": "code",
   "execution_count": 5,
   "id": "7dfc1384-55da-4b02-bcea-bba877abbe99",
   "metadata": {},
   "outputs": [],
   "source": [
    "import os\n",
    "#os.environ"
   ]
  },
  {
   "cell_type": "code",
   "execution_count": 6,
   "id": "baed0bdf-0f45-4fae-8d2d-cd12e154866a",
   "metadata": {},
   "outputs": [],
   "source": [
    "client=OpenAI()"
   ]
  },
  {
   "cell_type": "code",
   "execution_count": 9,
   "id": "7bf57235-703d-4a09-a781-96a844272362",
   "metadata": {},
   "outputs": [],
   "source": [
    "response = client.chat.completions.create(model=\"gpt-4o\", messages = [{\"role\":\"user\", \"content\":\"Is it too late to join the course?\"}])"
   ]
  },
  {
   "cell_type": "code",
   "execution_count": null,
   "id": "95fde46c-3cf1-4980-83a5-1dee331dafbf",
   "metadata": {},
   "outputs": [],
   "source": [
    "response.choices[0].message.content"
   ]
  }
 ],
 "metadata": {
  "kernelspec": {
   "display_name": "Python 3 (ipykernel)",
   "language": "python",
   "name": "python3"
  },
  "language_info": {
   "codemirror_mode": {
    "name": "ipython",
    "version": 3
   },
   "file_extension": ".py",
   "mimetype": "text/x-python",
   "name": "python",
   "nbconvert_exporter": "python",
   "pygments_lexer": "ipython3",
   "version": "3.12.1"
  }
 },
 "nbformat": 4,
 "nbformat_minor": 5
}
